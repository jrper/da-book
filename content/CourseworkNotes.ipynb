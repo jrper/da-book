{
 "cells": [
  {
   "cell_type": "markdown",
   "metadata": {},
   "source": [
    "## Part I\n",
    "\n",
    "A basic answer consists of a list of generic facts about the data assimilation methods, justifying the ordering being given, such as the computational expense of the Kalman Filter and 4D-Var methods, or the fact that both these methods use information from multiple time levels to attempt to generate a more accurate answer.\n",
    "\n",
    "A good answer also includes relevant specific facts about the system which the methods are being applied to, and how this impacts the relative standing of the approaches. For example:\n",
    "\n",
    "- The Burgers equation is nonlinear, which rules out the ordinary Kalman filter method, which requires a linear forward model. Discussion of the Extended Kalman Filter, and linearization of the problem around the background state, might justify a somewhat higher position.\n",
    "- The system is one dimensional, and not running for a prohibatively long time, which means computational cost is not likely to be a massive barrier to choice of method (at least compared to other systems).\n",
    "- The observation operator is (or at least can be chosen to be) linear, which makes the results of 3D-Var & OI assimilation functionally identical. If the implementation attempt used a nonlinear interpolation, then this point was rendered somewhat irrelevant.\n",
    "\n",
    "An execellent answer not only included a significant number of such relevant justifications, but additional evidence of outside research and revision, including topics such a model error, or the canonical behaviour of the diffuse Burgers' equation itself."
   ]
  },
  {
   "cell_type": "markdown",
   "metadata": {
    "slideshow": {
     "slide_type": "subslide"
    }
   },
   "source": [
    "## Part II\n",
    "\n",
    "We provide example code for 4 common strategies:\n",
    "\n",
    "1. Continous Adjoint 4D-Var\n",
    "2. Discrete Adjoint 4D-Var\n",
    "3. Multiple OI assimilations\n",
    "4. Multiple 3D-Var assimilations"
   ]
  },
  {
   "cell_type": "code",
   "execution_count": 49,
   "metadata": {},
   "outputs": [
    {
     "name": "stdout",
     "output_type": "stream",
     "text": [
      "                                        ∂ ⎛ 2      ⎞\n",
      "                           2            ──⎝u (z, t)⎠\n",
      "           ∂              ∂             ∂z          \n",
      "-f(z, t) + ──(u(z, t)) - ───(u(z, t)) + ────────────\n",
      "           ∂t              2                 2      \n",
      "                         ∂z                         \n"
     ]
    },
    {
     "data": {
      "image/png": "[encoded data removed]",
      "text/latex": [
       "$\\displaystyle \\operatorname{du}{\\left(z,t \\right)} \\frac{\\partial}{\\partial z} u{\\left(z,t \\right)} + u{\\left(z,t \\right)} \\frac{\\partial}{\\partial z} \\operatorname{du}{\\left(z,t \\right)} + \\frac{\\partial}{\\partial t} \\operatorname{du}{\\left(z,t \\right)} - \\frac{\\partial^{2}}{\\partial z^{2}} \\operatorname{du}{\\left(z,t \\right)}$"
      ],
      "text/plain": [
       "                                                               2          \n",
       "         ∂                     ∂              ∂               ∂           \n",
       "du(z, t)⋅──(u(z, t)) + u(z, t)⋅──(du(z, t)) + ──(du(z, t)) - ───(du(z, t))\n",
       "         ∂z                    ∂z             ∂t               2          \n",
       "                                                             ∂z           "
      ]
     },
     "execution_count": 49,
     "metadata": {},
     "output_type": "execute_result"
    }
   ],
   "source": [
    "import sympy\n",
    "\n",
    "z = sympy.Symbol('z', real=True)\n",
    "t = sympy.Symbol('t', real=True)\n",
    "a = sympy.Symbol('a', real=True)\n",
    "u = sympy.Function('u')(z,t)\n",
    "du = sympy.Function('du')(z,t)\n",
    "f = sympy.Function('f')(z,t)\n",
    "\n",
    "L = sympy.Derivative(u, t) + sympy.Derivative(u**2, z)/2- sympy.Derivative(u, z, z)-f\n",
    "\n",
    "sympy.init_printing()\n",
    "\n",
    "sympy.pretty_print(L)\n",
    "\n",
    "\n",
    "sympy.Derivative(L.subs(u, u+a*du),a, evaluate=True).subs(a,0)"
   ]
  },
  {
   "cell_type": "code",
   "execution_count": null,
   "metadata": {},
   "outputs": [],
   "source": [
    "\n"
   ]
  }
 ],
 "metadata": {
  "kernelspec": {
   "display_name": "Python 3",
   "language": "python",
   "name": "python3"
  },
  "language_info": {
   "codemirror_mode": {
    "name": "ipython",
    "version": 3
   },
   "file_extension": ".py",
   "mimetype": "text/x-python",
   "name": "python",
   "nbconvert_exporter": "python",
   "pygments_lexer": "ipython3",
   "version": "3.6.9"
  },
  "toc": {
   "base_numbering": 1,
   "nav_menu": {},
   "number_sections": false,
   "sideBar": true,
   "skip_h1_title": false,
   "title_cell": "Table of Contents",
   "title_sidebar": "Contents",
   "toc_cell": false,
   "toc_position": {
    "height": "calc(100% - 180px)",
    "left": "10px",
    "top": "150px",
    "width": "240px"
   },
   "toc_section_display": true,
   "toc_window_display": true
  }
 },
 "nbformat": 4,
 "nbformat_minor": 4
}
