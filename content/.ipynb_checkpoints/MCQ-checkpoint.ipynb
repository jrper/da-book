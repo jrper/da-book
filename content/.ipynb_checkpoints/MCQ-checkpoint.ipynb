{
 "cells": [
  {
   "cell_type": "code",
   "execution_count": null,
   "metadata": {},
   "outputs": [],
   "source": [
    "from IPython.display import IFrame, display_html"
   ]
  },
  {
   "cell_type": "code",
   "execution_count": 44,
   "metadata": {
    "scrolled": true,
    "slideshow": {
     "slide_type": "slide"
    }
   },
   "outputs": [
    {
     "data": {
      "text/html": [
       "\n",
       "        <iframe\n",
       "            width=\"100%\"\n",
       "            height=\"400\"\n",
       "            src=\"https://localhost:5050/\"\n",
       "            frameborder=\"0\"\n",
       "            allowfullscreen\n",
       "        ></iframe>\n",
       "        "
      ]
     },
     "metadata": {},
     "output_type": "display_data"
    }
   ],
   "source": [
    "display_html(IFrame('https://localhost:5050/', \"100%\", 400))"
   ]
  },
  {
   "cell_type": "code",
   "execution_count": 63,
   "metadata": {},
   "outputs": [],
   "source": [
    "import numpy as np\n",
    "from scipy.integrate import odeint\n",
    "\n",
    "rho = 28\n",
    "sigma = 10\n",
    "beta = 8/3\n",
    "\n",
    "nt = 301\n",
    "\n",
    "def f(X, t):\n",
    "    \"\"\" Put the Forward Euler right hand side for Lorenz attractor\"\"\"\n",
    "    \n",
    "    x = X.reshape(3, len(X)//3)\n",
    "    \n",
    "    y = np.empty(x.shape)\n",
    "    \n",
    "    y[0, :] = sigma*(x[1, :]-x[0, :])\n",
    "    y[1, :] = -x[0, :]*x[2, :] + rho*x[0, :]-x[1, :]\n",
    "    y[2, :] = x[0, :]*x[1, :] - beta*x[2, :]\n",
    "    \n",
    "    return y.ravel()\n",
    "\n",
    "x0 = np.ones(3)\n",
    "t = np.linspace(0, 20, nt)\n",
    "\n",
    "x_t = odeint(f, x0, t).reshape(nt, 3)"
   ]
  },
  {
   "cell_type": "code",
   "execution_count": null,
   "metadata": {},
   "outputs": [],
   "source": [
    "from mpl_toolkits.mplot3d import Axes3D\n",
    "import numpy as np\n",
    "import matplotlib\n",
    "matplotlib.use(\"Agg\")\n",
    "import matplotlib.pyplot as plt\n",
    "import matplotlib.animation as manimation\n",
    "\n",
    "FFMpegWriter = manimation.writers['ffmpeg']\n",
    "metadata = dict(title='Movie Test', artist='Matplotlib',\n",
    "                comment='Movie support!')\n",
    "writer = FFMpegWriter(fps=15, metadata=metadata)\n",
    "\n",
    "def plot(i):\n",
    "    plt.cla()\n",
    "    ax = fig.add_subplot(111, projection='3d')\n",
    "    ax.plot(*x_t[:,:].T)\n",
    "    ax.scatter(x_t[i, 0], x_t[i, 1], x_t[i, 2], c='r')\n",
    "\n",
    "fig = plt.figure()\n",
    "ax = fig.add_subplot(111, projection='3d')\n",
    "\n",
    "fanim = manimation.FuncAnimation(fig, plot, nt)\n",
    "\n",
    "fanim.save(\"writer_test.mp4\", writer=writer)\n",
    "    \n",
    "       "
   ]
  },
  {
   "cell_type": "code",
   "execution_count": null,
   "metadata": {},
   "outputs": [],
   "source": []
  }
 ],
 "metadata": {
  "celltoolbar": "Slideshow",
  "kernelspec": {
   "display_name": "Python 3",
   "language": "python",
   "name": "python3"
  },
  "language_info": {
   "codemirror_mode": {
    "name": "ipython",
    "version": 3
   },
   "file_extension": ".py",
   "mimetype": "text/x-python",
   "name": "python",
   "nbconvert_exporter": "python",
   "pygments_lexer": "ipython3",
   "version": "3.6.8"
  }
 },
 "nbformat": 4,
 "nbformat_minor": 2
}
